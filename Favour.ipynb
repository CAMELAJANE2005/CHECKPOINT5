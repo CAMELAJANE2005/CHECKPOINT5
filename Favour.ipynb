{
 "cells": [
  {
   "cell_type": "code",
   "execution_count": 4,
   "id": "0b52938f",
   "metadata": {},
   "outputs": [
    {
     "name": "stdout",
     "output_type": "stream",
     "text": [
      "Hello \n",
      "my name is Alone \n",
      "what is yours White\n",
      "Nice to meet you White\n",
      "would you love to play a game with me White\n",
      "i am thinking of a number between 1 and 10 and you have to guess it . what is your first guess 5\n",
      "yay,you guessed it \n",
      "Yes you got it\n"
     ]
    }
   ],
   "source": [
    "print(\"Hello \")\n",
    "print(\"my name is Alone \")\n",
    "name = input(\"what is yours \")\n",
    "print(\"Nice to meet you\",name)\n",
    "print(\"would you love to play a game with me\",name)\n",
    "number =int(input(\"i am thinking of a number between 1 and 10 and you have to guess it . what is your first guess \"))\n",
    "if number == 5:\n",
    "    print(\"yay,you guessed it \")\n",
    "elif number < 5:\n",
    "    print(\"you have one more try\")\n",
    "    number1 =int(input(\"try your luck once more \"))\n",
    "if number == 5:\n",
    "        print(\"Yes you got it\")\n",
    "elif number < 5:\n",
    "        print(\"No. it was five\")"
   ]
  },
  {
   "cell_type": "code",
   "execution_count": null,
   "id": "4e8ab7eb",
   "metadata": {},
   "outputs": [],
   "source": []
  }
 ],
 "metadata": {
  "kernelspec": {
   "display_name": "Python 3 (ipykernel)",
   "language": "python",
   "name": "python3"
  },
  "language_info": {
   "codemirror_mode": {
    "name": "ipython",
    "version": 3
   },
   "file_extension": ".py",
   "mimetype": "text/x-python",
   "name": "python",
   "nbconvert_exporter": "python",
   "pygments_lexer": "ipython3",
   "version": "3.11.4"
  }
 },
 "nbformat": 4,
 "nbformat_minor": 5
}
